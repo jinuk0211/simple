{
 "cells": [
  {
   "cell_type": "code",
   "execution_count": 1,
   "id": "575899a6-88f1-4e9a-ba4d-5485d93a994b",
   "metadata": {},
   "outputs": [
    {
     "name": "stderr",
     "output_type": "stream",
     "text": [
      "[2025-03-22 17:48:47] ERROR - misc.py: load_env - 212: Did not detect the .env file at /workspace/VLMEvalKit/.env, failed to load. \n",
      "/workspace/VLMEvalKit/vlmeval/dataset/image_base.py:94: UserWarning: The dataset tsv is not downloaded\n",
      "  warnings.warn('The dataset tsv is not downloaded')\n",
      "MathVista_MINI.tsv: 55.1MB [00:08, 6.36MB/s]                              \n"
     ]
    }
   ],
   "source": [
    "from vlmeval.dataset import build_dataset\n",
    "dataset_kwargs = {}\n",
    "dataset_name = \"MathVista_MINI\"\n",
    "dataset = build_dataset(dataset_name, **dataset_kwargs)\n"
   ]
  },
  {
   "cell_type": "code",
   "execution_count": 4,
   "id": "7d03b4e2-348a-4893-b8b8-ed80da84848c",
   "metadata": {},
   "outputs": [],
   "source": [
    "import os.path as osp\n",
    "import pandas as pd\n",
    "data_len = len(dataset.data)\n",
    "# for i in range(len(dataset.data)):\n",
    "image = dataset.data.iloc[1]['image']\n",
    "dataset.dump_image(dataset.data.iloc[1])\n",
    "img_path = osp.join(dataset.img_root, f\"{dataset.data.iloc[1]['index']}.jpg\")\n",
    "question = dataset.data.iloc[1]['image']\n",
    "if not pd.isnull(dataset.data.iloc[1]['choices']):\n",
    "  choices = dataset.data.iloc[1]['choices']"
   ]
  },
  {
   "cell_type": "code",
   "execution_count": 10,
   "id": "7df8fea3-043e-48e5-b960-d3c2906cc792",
   "metadata": {},
   "outputs": [
    {
     "ename": "ModuleNotFoundError",
     "evalue": "No module named 'MCTS_Task'",
     "output_type": "error",
     "traceback": [
      "\u001b[0;31m---------------------------------------------------------------------------\u001b[0m",
      "\u001b[0;31mModuleNotFoundError\u001b[0m                       Traceback (most recent call last)",
      "Cell \u001b[0;32mIn[10], line 1\u001b[0m\n\u001b[0;32m----> 1\u001b[0m \u001b[38;5;28;01mimport\u001b[39;00m \u001b[38;5;21;01mMCTS_Task\u001b[39;00m\n\u001b[1;32m      2\u001b[0m task \u001b[38;5;241m=\u001b[39m MCTS_Task(question, args\u001b[38;5;241m.\u001b[39mpropose_method, args\u001b[38;5;241m.\u001b[39mvalue_method, args\u001b[38;5;241m.\u001b[39mbranch, args\u001b[38;5;241m.\u001b[39mend_gate,\n\u001b[1;32m      3\u001b[0m                     args\u001b[38;5;241m.\u001b[39mroll_policy, args\u001b[38;5;241m.\u001b[39mroll_branch, args\u001b[38;5;241m.\u001b[39mroll_forward_steps, args\u001b[38;5;241m.\u001b[39mtime_limit,\n\u001b[1;32m      4\u001b[0m                     args\u001b[38;5;241m.\u001b[39miteration_limit, args\u001b[38;5;241m.\u001b[39mexploration_constant, args\u001b[38;5;241m.\u001b[39malpha, args\u001b[38;5;241m.\u001b[39minf,\n\u001b[1;32m      5\u001b[0m                     args\u001b[38;5;241m.\u001b[39mtemperature, use_case_prompt\u001b[38;5;241m=\u001b[39margs\u001b[38;5;241m.\u001b[39muse_case_prompt, use_reflection\u001b[38;5;241m=\u001b[39margs\u001b[38;5;241m.\u001b[39muse_reflection,\n\u001b[1;32m      6\u001b[0m                     low\u001b[38;5;241m=\u001b[39margs\u001b[38;5;241m.\u001b[39mlow, high\u001b[38;5;241m=\u001b[39margs\u001b[38;5;241m.\u001b[39mhigh, evaluate\u001b[38;5;241m=\u001b[39margs\u001b[38;5;241m.\u001b[39mevaluate, img_path \u001b[38;5;241m=\u001b[39m\u001b[38;5;124m'\u001b[39m\u001b[38;5;124m/root/LMUData/images/MathVista_MINI/2.jpg\u001b[39m\u001b[38;5;124m'\u001b[39m)\n\u001b[1;32m      7\u001b[0m root \u001b[38;5;241m=\u001b[39m treeNode(\u001b[38;5;124m'\u001b[39m\u001b[38;5;124m'\u001b[39m)\n",
      "\u001b[0;31mModuleNotFoundError\u001b[0m: No module named 'MCTS_Task'"
     ]
    }
   ],
   "source": [
    "import MCTS_Task\n",
    "task = MCTS_Task(question, args.propose_method, args.value_method, args.branch, args.end_gate,\n",
    "                    args.roll_policy, args.roll_branch, args.roll_forward_steps, args.time_limit,\n",
    "                    args.iteration_limit, args.exploration_constant, args.alpha, args.inf,\n",
    "                    args.temperature, use_case_prompt=args.use_case_prompt, use_reflection=args.use_reflection,\n",
    "                    low=args.low, high=args.high, evaluate=args.evaluate, img_path ='/root/LMUData/images/MathVista_MINI/2.jpg')\n",
    "root = treeNode('')\n",
    "flag, node = selectNode(root, task)\n",
    "actions = get_next_steps_expand(node, task)\n",
    "node = expand(node, task)\n",
    "reflection = task.get_simple_reflection(node.y, node.depth + 1)"
   ]
  },
  {
   "cell_type": "code",
   "execution_count": null,
   "id": "0bfd92c2-db9c-4790-b39f-e99f5664efae",
   "metadata": {},
   "outputs": [],
   "source": []
  }
 ],
 "metadata": {
  "kernelspec": {
   "display_name": "Python 3 (ipykernel)",
   "language": "python",
   "name": "python3"
  },
  "language_info": {
   "codemirror_mode": {
    "name": "ipython",
    "version": 3
   },
   "file_extension": ".py",
   "mimetype": "text/x-python",
   "name": "python",
   "nbconvert_exporter": "python",
   "pygments_lexer": "ipython3",
   "version": "3.10.12"
  }
 },
 "nbformat": 4,
 "nbformat_minor": 5
}
